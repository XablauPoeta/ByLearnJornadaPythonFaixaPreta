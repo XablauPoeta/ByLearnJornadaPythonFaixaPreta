{
  "nbformat": 4,
  "nbformat_minor": 0,
  "metadata": {
    "colab": {
      "name": "JornadaFaixaPretaAula2.ipynb",
      "provenance": []
    },
    "kernelspec": {
      "name": "python3",
      "display_name": "Python 3"
    }
  },
  "cells": [
    {
      "cell_type": "markdown",
      "metadata": {
        "id": "UujXFo-oUAiR"
      },
      "source": [
        "#Identação de codigo\n",
        "\n",
        "Identação é aquele espaçamento no inicio da linha.\n",
        "\n",
        "O nivel mais a direita pertence ao nivel mais a esquerda"
      ]
    },
    {
      "cell_type": "code",
      "metadata": {
        "id": "yaj9P01NuY5-"
      },
      "source": [
        ""
      ],
      "execution_count": null,
      "outputs": []
    },
    {
      "cell_type": "code",
      "metadata": {
        "id": "5xccAD-tUNBU"
      },
      "source": [
        "# Nivel Pai\n",
        "  # Nivel Filho\n",
        "    # Nivel Neto\n",
        "      # Nivel Bisneto 1\n",
        "      # Nivel Bisneto 2\n",
        "      # Nivel Bisneto 3\n",
        "    #Nivel Neto 2"
      ],
      "execution_count": null,
      "outputs": []
    },
    {
      "cell_type": "code",
      "metadata": {
        "id": "eHqP4VJgVP6l",
        "outputId": "dbde8199-faf2-45fb-d8f9-02556de06aa4",
        "colab": {
          "base_uri": "https://localhost:8080/"
        }
      },
      "source": [
        "print(\"ByLearners\")"
      ],
      "execution_count": null,
      "outputs": [
        {
          "output_type": "stream",
          "text": [
            "ByLearners\n"
          ],
          "name": "stdout"
        }
      ]
    },
    {
      "cell_type": "markdown",
      "metadata": {
        "id": "Hyyv03bLVaI8"
      },
      "source": [
        "# Variáveis\n",
        "\n",
        "Um variável um nome que se refere a um valor.\n",
        "\n",
        "## Motivo do uso\n",
        "\n",
        "São usadas para guardar valores para serem usadas mais tarde no programa\n",
        "\n",
        "## Sintaxe\n",
        "\n",
        "variavel = valor\n",
        "variavel = novo_valor\n",
        "novo_variavel = variavel  \n"
      ]
    },
    {
      "cell_type": "code",
      "metadata": {
        "id": "1pzypJqlWbhs"
      },
      "source": [
        "nome = \"Breno\"\n",
        "idade = 14"
      ],
      "execution_count": null,
      "outputs": []
    },
    {
      "cell_type": "code",
      "metadata": {
        "id": "geYoMjsQWhw1",
        "outputId": "f8286294-e25a-43a8-9b3c-19a645c31631",
        "colab": {
          "base_uri": "https://localhost:8080/",
          "height": 35
        }
      },
      "source": [
        "nome"
      ],
      "execution_count": null,
      "outputs": [
        {
          "output_type": "execute_result",
          "data": {
            "application/vnd.google.colaboratory.intrinsic+json": {
              "type": "string"
            },
            "text/plain": [
              "'Breno'"
            ]
          },
          "metadata": {
            "tags": []
          },
          "execution_count": 5
        }
      ]
    },
    {
      "cell_type": "code",
      "metadata": {
        "id": "xJNA8qPtWk9r",
        "outputId": "32ffec21-6359-4ba7-f0f1-e1eaf6830778",
        "colab": {
          "base_uri": "https://localhost:8080/"
        }
      },
      "source": [
        "idade"
      ],
      "execution_count": null,
      "outputs": [
        {
          "output_type": "execute_result",
          "data": {
            "text/plain": [
              "14"
            ]
          },
          "metadata": {
            "tags": []
          },
          "execution_count": 6
        }
      ]
    },
    {
      "cell_type": "code",
      "metadata": {
        "id": "CtjhaH_jWp7W"
      },
      "source": [
        "idade = idade + 1"
      ],
      "execution_count": null,
      "outputs": []
    },
    {
      "cell_type": "code",
      "metadata": {
        "id": "nF72OVwSWuU4",
        "outputId": "8c01efe3-5cef-46d2-81bc-af7566b3c4c3",
        "colab": {
          "base_uri": "https://localhost:8080/"
        }
      },
      "source": [
        "idade"
      ],
      "execution_count": null,
      "outputs": [
        {
          "output_type": "execute_result",
          "data": {
            "text/plain": [
              "15"
            ]
          },
          "metadata": {
            "tags": []
          },
          "execution_count": 8
        }
      ]
    },
    {
      "cell_type": "code",
      "metadata": {
        "id": "NPCwUUxEWwxh"
      },
      "source": [
        "idade_breno_2021 = idade"
      ],
      "execution_count": null,
      "outputs": []
    },
    {
      "cell_type": "code",
      "metadata": {
        "id": "cL20v-xnW4VL",
        "outputId": "ebe5a372-d1b8-4193-e0cc-a354a8d15684",
        "colab": {
          "base_uri": "https://localhost:8080/"
        }
      },
      "source": [
        "idade_breno_2021"
      ],
      "execution_count": null,
      "outputs": [
        {
          "output_type": "execute_result",
          "data": {
            "text/plain": [
              "15"
            ]
          },
          "metadata": {
            "tags": []
          },
          "execution_count": 10
        }
      ]
    },
    {
      "cell_type": "code",
      "metadata": {
        "id": "mbOctt1gW6Br"
      },
      "source": [
        "primeiro_numero = 15\n",
        "segundo_numero = 10\n",
        "\n",
        "soma = primeiro_numero + segundo_numero"
      ],
      "execution_count": null,
      "outputs": []
    },
    {
      "cell_type": "code",
      "metadata": {
        "id": "3Bv7qht2XCS9",
        "outputId": "faed264a-a5fc-442f-b699-38af38a247ea",
        "colab": {
          "base_uri": "https://localhost:8080/"
        }
      },
      "source": [
        "soma"
      ],
      "execution_count": null,
      "outputs": [
        {
          "output_type": "execute_result",
          "data": {
            "text/plain": [
              "25"
            ]
          },
          "metadata": {
            "tags": []
          },
          "execution_count": 12
        }
      ]
    },
    {
      "cell_type": "code",
      "metadata": {
        "id": "MsygPYBFXM-o"
      },
      "source": [
        "nome = \"Breno\"\n",
        "sobrenome = \"Silva\"\n",
        "apelido = \"Xablau\""
      ],
      "execution_count": null,
      "outputs": []
    },
    {
      "cell_type": "code",
      "metadata": {
        "id": "JBc9BMqoXXNL"
      },
      "source": [
        "nome_completo = nome + sobrenome"
      ],
      "execution_count": null,
      "outputs": []
    },
    {
      "cell_type": "code",
      "metadata": {
        "id": "bsioOrdOXcOe",
        "outputId": "6d5cac21-7f45-4cd3-e96b-2ce1faca157d",
        "colab": {
          "base_uri": "https://localhost:8080/",
          "height": 35
        }
      },
      "source": [
        "nome_completo"
      ],
      "execution_count": null,
      "outputs": [
        {
          "output_type": "execute_result",
          "data": {
            "application/vnd.google.colaboratory.intrinsic+json": {
              "type": "string"
            },
            "text/plain": [
              "'BrenoSilva'"
            ]
          },
          "metadata": {
            "tags": []
          },
          "execution_count": 15
        }
      ]
    },
    {
      "cell_type": "code",
      "metadata": {
        "id": "-C7-svysXh7c"
      },
      "source": [
        "nome_completo = nome + \" \" + sobrenome"
      ],
      "execution_count": null,
      "outputs": []
    },
    {
      "cell_type": "code",
      "metadata": {
        "id": "gy_4lqquXn8s",
        "outputId": "7590987a-448f-4d67-d9cd-243f7fb30558",
        "colab": {
          "base_uri": "https://localhost:8080/",
          "height": 35
        }
      },
      "source": [
        "nome_completo"
      ],
      "execution_count": null,
      "outputs": [
        {
          "output_type": "execute_result",
          "data": {
            "application/vnd.google.colaboratory.intrinsic+json": {
              "type": "string"
            },
            "text/plain": [
              "'Breno Silva'"
            ]
          },
          "metadata": {
            "tags": []
          },
          "execution_count": 17
        }
      ]
    },
    {
      "cell_type": "code",
      "metadata": {
        "id": "s0rA5Ab2XtiC",
        "outputId": "3746c3b1-16b1-4eb4-c650-04ab3ce21f4e",
        "colab": {
          "base_uri": "https://localhost:8080/",
          "height": 35
        }
      },
      "source": [
        "apelido"
      ],
      "execution_count": null,
      "outputs": [
        {
          "output_type": "execute_result",
          "data": {
            "application/vnd.google.colaboratory.intrinsic+json": {
              "type": "string"
            },
            "text/plain": [
              "'Xablau'"
            ]
          },
          "metadata": {
            "tags": []
          },
          "execution_count": 19
        }
      ]
    },
    {
      "cell_type": "markdown",
      "metadata": {
        "id": "vCJ2ey4cY-20"
      },
      "source": [
        "# Tipos de dados\n",
        "\n",
        "Toda variavel ela tem um tipo, que a define se é um texto, numero, booleano"
      ]
    },
    {
      "cell_type": "code",
      "metadata": {
        "id": "kdWafim4Yzyv"
      },
      "source": [
        "inteiro = 10\n",
        "decimal = 10.5\n",
        "texto = \"breno silva\"\n",
        "verdadeiro_falso = True"
      ],
      "execution_count": null,
      "outputs": []
    },
    {
      "cell_type": "code",
      "metadata": {
        "id": "7PS4HOj_ZZFx",
        "outputId": "aebc03b8-131b-4f32-e3bc-534e9a30da53",
        "colab": {
          "base_uri": "https://localhost:8080/"
        }
      },
      "source": [
        "23 + 10"
      ],
      "execution_count": null,
      "outputs": [
        {
          "output_type": "execute_result",
          "data": {
            "text/plain": [
              "33"
            ]
          },
          "metadata": {
            "tags": []
          },
          "execution_count": 21
        }
      ]
    },
    {
      "cell_type": "code",
      "metadata": {
        "id": "QRkB7O9uZd_M",
        "outputId": "e356b912-75c9-4af8-fb8f-dd398b270791",
        "colab": {
          "base_uri": "https://localhost:8080/",
          "height": 35
        }
      },
      "source": [
        "\"23\" + \"10\""
      ],
      "execution_count": null,
      "outputs": [
        {
          "output_type": "execute_result",
          "data": {
            "application/vnd.google.colaboratory.intrinsic+json": {
              "type": "string"
            },
            "text/plain": [
              "'2310'"
            ]
          },
          "metadata": {
            "tags": []
          },
          "execution_count": 22
        }
      ]
    },
    {
      "cell_type": "code",
      "metadata": {
        "id": "c3Rqqg-gZiZi",
        "outputId": "74b43363-8e65-4f9a-8946-80eb664875c7",
        "colab": {
          "base_uri": "https://localhost:8080/"
        }
      },
      "source": [
        "type(23)"
      ],
      "execution_count": null,
      "outputs": [
        {
          "output_type": "execute_result",
          "data": {
            "text/plain": [
              "int"
            ]
          },
          "metadata": {
            "tags": []
          },
          "execution_count": 23
        }
      ]
    },
    {
      "cell_type": "code",
      "metadata": {
        "id": "L9sNBnpTZqNa",
        "outputId": "427ed356-95a9-44da-9925-c3d70828e23b",
        "colab": {
          "base_uri": "https://localhost:8080/"
        }
      },
      "source": [
        "type(\"23\")"
      ],
      "execution_count": null,
      "outputs": [
        {
          "output_type": "execute_result",
          "data": {
            "text/plain": [
              "str"
            ]
          },
          "metadata": {
            "tags": []
          },
          "execution_count": 24
        }
      ]
    },
    {
      "cell_type": "code",
      "metadata": {
        "id": "9cWvY9l3Zskr",
        "outputId": "13bf16d5-7c6e-4cbe-97b6-32229ddd7107",
        "colab": {
          "base_uri": "https://localhost:8080/"
        }
      },
      "source": [
        "type(inteiro)"
      ],
      "execution_count": null,
      "outputs": [
        {
          "output_type": "execute_result",
          "data": {
            "text/plain": [
              "int"
            ]
          },
          "metadata": {
            "tags": []
          },
          "execution_count": 25
        }
      ]
    },
    {
      "cell_type": "code",
      "metadata": {
        "id": "XJPPm3MFZx-0",
        "outputId": "250e9206-dd70-449d-9deb-1419ed755871",
        "colab": {
          "base_uri": "https://localhost:8080/"
        }
      },
      "source": [
        "type(decimal)"
      ],
      "execution_count": null,
      "outputs": [
        {
          "output_type": "execute_result",
          "data": {
            "text/plain": [
              "float"
            ]
          },
          "metadata": {
            "tags": []
          },
          "execution_count": 26
        }
      ]
    },
    {
      "cell_type": "code",
      "metadata": {
        "id": "dv6J5qZxZzzp",
        "outputId": "0f53b877-068d-42bb-aded-ff85183edb66",
        "colab": {
          "base_uri": "https://localhost:8080/"
        }
      },
      "source": [
        "type(texto)"
      ],
      "execution_count": null,
      "outputs": [
        {
          "output_type": "execute_result",
          "data": {
            "text/plain": [
              "str"
            ]
          },
          "metadata": {
            "tags": []
          },
          "execution_count": 27
        }
      ]
    },
    {
      "cell_type": "code",
      "metadata": {
        "id": "mzsfDMDCZ160",
        "outputId": "639bb890-9557-4f12-d95d-d0980a4a54ea",
        "colab": {
          "base_uri": "https://localhost:8080/"
        }
      },
      "source": [
        "type(verdadeiro_falso)"
      ],
      "execution_count": null,
      "outputs": [
        {
          "output_type": "execute_result",
          "data": {
            "text/plain": [
              "bool"
            ]
          },
          "metadata": {
            "tags": []
          },
          "execution_count": 28
        }
      ]
    },
    {
      "cell_type": "code",
      "metadata": {
        "id": "j80u0PJrZ5HE",
        "outputId": "ac0d3c79-2143-4195-f3be-5ae5c1c7138e",
        "colab": {
          "base_uri": "https://localhost:8080/",
          "height": 165
        }
      },
      "source": [
        "23 + \"abc\""
      ],
      "execution_count": null,
      "outputs": [
        {
          "output_type": "error",
          "ename": "TypeError",
          "evalue": "ignored",
          "traceback": [
            "\u001b[0;31m---------------------------------------------------------------------------\u001b[0m",
            "\u001b[0;31mTypeError\u001b[0m                                 Traceback (most recent call last)",
            "\u001b[0;32m<ipython-input-30-c5e242bbf072>\u001b[0m in \u001b[0;36m<module>\u001b[0;34m()\u001b[0m\n\u001b[0;32m----> 1\u001b[0;31m \u001b[0;36m23\u001b[0m \u001b[0;34m+\u001b[0m \u001b[0;34m\"abc\"\u001b[0m\u001b[0;34m\u001b[0m\u001b[0;34m\u001b[0m\u001b[0m\n\u001b[0m",
            "\u001b[0;31mTypeError\u001b[0m: unsupported operand type(s) for +: 'int' and 'str'"
          ]
        }
      ]
    },
    {
      "cell_type": "code",
      "metadata": {
        "id": "8_ukwicXaBO1"
      },
      "source": [
        "# int inteiros\n",
        "# Float Numeros com virgula\n",
        "# str strings (txt)\n",
        "# bool Booleanos (verdadeiro e falso)\n",
        "\n",
        "texto_10 = \"10\"\n",
        "numero_20 = 20"
      ],
      "execution_count": null,
      "outputs": []
    },
    {
      "cell_type": "code",
      "metadata": {
        "id": "DYZR5KniaeOW",
        "outputId": "4f39f9ec-a8a3-46d3-e312-8efdb24935cb",
        "colab": {
          "base_uri": "https://localhost:8080/"
        }
      },
      "source": [
        "type(texto_10)"
      ],
      "execution_count": null,
      "outputs": [
        {
          "output_type": "execute_result",
          "data": {
            "text/plain": [
              "str"
            ]
          },
          "metadata": {
            "tags": []
          },
          "execution_count": 32
        }
      ]
    },
    {
      "cell_type": "code",
      "metadata": {
        "id": "SO22LbzKaiNY",
        "outputId": "3d128643-a15a-4748-dc14-c2dbd40c40a2",
        "colab": {
          "base_uri": "https://localhost:8080/"
        }
      },
      "source": [
        "type(numero_20)"
      ],
      "execution_count": null,
      "outputs": [
        {
          "output_type": "execute_result",
          "data": {
            "text/plain": [
              "int"
            ]
          },
          "metadata": {
            "tags": []
          },
          "execution_count": 33
        }
      ]
    },
    {
      "cell_type": "code",
      "metadata": {
        "id": "J_3iPLScakbs"
      },
      "source": [
        "numero_10 = int(texto_10)"
      ],
      "execution_count": null,
      "outputs": []
    },
    {
      "cell_type": "code",
      "metadata": {
        "id": "LdUsjZxaaq8s",
        "outputId": "1d08cbbc-6065-438b-bf69-d5fd8bc1c1c0",
        "colab": {
          "base_uri": "https://localhost:8080/"
        }
      },
      "source": [
        "type(numero_10)"
      ],
      "execution_count": null,
      "outputs": [
        {
          "output_type": "execute_result",
          "data": {
            "text/plain": [
              "int"
            ]
          },
          "metadata": {
            "tags": []
          },
          "execution_count": 35
        }
      ]
    },
    {
      "cell_type": "code",
      "metadata": {
        "id": "_0gnR5UaaufW"
      },
      "source": [
        "texto_10 = str(numero_20)"
      ],
      "execution_count": null,
      "outputs": []
    },
    {
      "cell_type": "code",
      "metadata": {
        "id": "g61VHjJPay93",
        "outputId": "06a107d5-969c-4f17-bdaa-d99793ce6d65",
        "colab": {
          "base_uri": "https://localhost:8080/"
        }
      },
      "source": [
        "type(texto_10)"
      ],
      "execution_count": null,
      "outputs": [
        {
          "output_type": "execute_result",
          "data": {
            "text/plain": [
              "str"
            ]
          },
          "metadata": {
            "tags": []
          },
          "execution_count": 38
        }
      ]
    },
    {
      "cell_type": "code",
      "metadata": {
        "id": "l-a0_4xEa3vr",
        "outputId": "00a0da3d-3252-4e80-8119-7487bf4df965",
        "colab": {
          "base_uri": "https://localhost:8080/"
        }
      },
      "source": [
        "type(numero_20)"
      ],
      "execution_count": null,
      "outputs": [
        {
          "output_type": "execute_result",
          "data": {
            "text/plain": [
              "int"
            ]
          },
          "metadata": {
            "tags": []
          },
          "execution_count": 39
        }
      ]
    },
    {
      "cell_type": "code",
      "metadata": {
        "id": "EIBAl79JbHc6"
      },
      "source": [
        "esta_chovendo = True"
      ],
      "execution_count": null,
      "outputs": []
    },
    {
      "cell_type": "code",
      "metadata": {
        "id": "rBz9vu7Gbh_1"
      },
      "source": [
        "esta_frio = False"
      ],
      "execution_count": null,
      "outputs": []
    },
    {
      "cell_type": "markdown",
      "metadata": {
        "id": "e-qMDxemcCdS"
      },
      "source": [
        "# Operações Matemagicas\n",
        "\n",
        "Podemos fazer todas as operaçoes matematicas facilmente\n",
        "\n",
        "Soma +\n",
        "Subtracao -\n",
        "Multiplicacao *\n",
        "Divisao /"
      ]
    },
    {
      "cell_type": "code",
      "metadata": {
        "id": "LqkLaRN3cLcm"
      },
      "source": [
        "soma = 10 + 20"
      ],
      "execution_count": null,
      "outputs": []
    },
    {
      "cell_type": "code",
      "metadata": {
        "id": "1VY68vFQcNrs"
      },
      "source": [
        "subtracao = 20 + 10"
      ],
      "execution_count": null,
      "outputs": []
    },
    {
      "cell_type": "code",
      "metadata": {
        "id": "CGrbJ2tQcQQ9"
      },
      "source": [
        "multiplicacao = 2 * 3"
      ],
      "execution_count": null,
      "outputs": []
    },
    {
      "cell_type": "code",
      "metadata": {
        "id": "QkB-gck-cbxR"
      },
      "source": [
        "divisao = 8 / 2"
      ],
      "execution_count": null,
      "outputs": []
    },
    {
      "cell_type": "code",
      "metadata": {
        "id": "caIm78TZceeC",
        "outputId": "512f9e5a-9608-4357-8732-228fb1689468",
        "colab": {
          "base_uri": "https://localhost:8080/"
        }
      },
      "source": [
        "soma"
      ],
      "execution_count": null,
      "outputs": [
        {
          "output_type": "execute_result",
          "data": {
            "text/plain": [
              "30"
            ]
          },
          "metadata": {
            "tags": []
          },
          "execution_count": 46
        }
      ]
    },
    {
      "cell_type": "code",
      "metadata": {
        "id": "O10tr_N8cpfJ",
        "outputId": "b7761780-3f15-4be3-8e50-c12322852c8d",
        "colab": {
          "base_uri": "https://localhost:8080/"
        }
      },
      "source": [
        "subtracao"
      ],
      "execution_count": null,
      "outputs": [
        {
          "output_type": "execute_result",
          "data": {
            "text/plain": [
              "30"
            ]
          },
          "metadata": {
            "tags": []
          },
          "execution_count": 47
        }
      ]
    },
    {
      "cell_type": "code",
      "metadata": {
        "id": "oykmEczWcrz6",
        "outputId": "3e851499-8869-4a65-f742-b3262622d031",
        "colab": {
          "base_uri": "https://localhost:8080/"
        }
      },
      "source": [
        "multiplicacao"
      ],
      "execution_count": null,
      "outputs": [
        {
          "output_type": "execute_result",
          "data": {
            "text/plain": [
              "6"
            ]
          },
          "metadata": {
            "tags": []
          },
          "execution_count": 48
        }
      ]
    },
    {
      "cell_type": "code",
      "metadata": {
        "id": "g1JMm4srctOx",
        "outputId": "3980d96d-f7d5-41e9-ea95-a95c1a7000db",
        "colab": {
          "base_uri": "https://localhost:8080/"
        }
      },
      "source": [
        "divisao"
      ],
      "execution_count": null,
      "outputs": [
        {
          "output_type": "execute_result",
          "data": {
            "text/plain": [
              "4.0"
            ]
          },
          "metadata": {
            "tags": []
          },
          "execution_count": 49
        }
      ]
    },
    {
      "cell_type": "code",
      "metadata": {
        "id": "Mb7TzCaacuXo"
      },
      "source": [
        "primeiro_numero = 20\n",
        "segundo_numero = 30\n",
        "terceiro_numero = 10\n",
        "quarto_numero = 5\n",
        "\n",
        "valor_final = (primeiro_numero + segundo_numero - terceiro_numero) / quarto_numero"
      ],
      "execution_count": null,
      "outputs": []
    },
    {
      "cell_type": "code",
      "metadata": {
        "id": "eBcKXYsUdF0F",
        "outputId": "9f5c78d4-1bea-4947-97e1-e3795108d3d0",
        "colab": {
          "base_uri": "https://localhost:8080/"
        }
      },
      "source": [
        "valor_final"
      ],
      "execution_count": null,
      "outputs": [
        {
          "output_type": "execute_result",
          "data": {
            "text/plain": [
              "8.0"
            ]
          },
          "metadata": {
            "tags": []
          },
          "execution_count": 51
        }
      ]
    },
    {
      "cell_type": "markdown",
      "metadata": {
        "id": "jwhZZ14adI1l"
      },
      "source": [
        "# Metodos de entrada\n",
        "\n",
        "são formas de enviar valor ao python\n",
        "\n",
        "usamos a função input()"
      ]
    },
    {
      "cell_type": "code",
      "metadata": {
        "id": "Tge0qep3dUbq",
        "outputId": "4a658393-0d62-4098-8a10-b56cd616d086",
        "colab": {
          "base_uri": "https://localhost:8080/",
          "height": 52
        }
      },
      "source": [
        "nome + input(\"Insira seu nome: \")"
      ],
      "execution_count": null,
      "outputs": [
        {
          "output_type": "stream",
          "text": [
            "Insira seu nome: Breno\n"
          ],
          "name": "stdout"
        },
        {
          "output_type": "execute_result",
          "data": {
            "application/vnd.google.colaboratory.intrinsic+json": {
              "type": "string"
            },
            "text/plain": [
              "'BrenoBreno'"
            ]
          },
          "metadata": {
            "tags": []
          },
          "execution_count": 56
        }
      ]
    },
    {
      "cell_type": "code",
      "metadata": {
        "id": "4N4n0wyQdV_S",
        "outputId": "5cf4061f-c201-42e9-d02f-e1762ad2eac9",
        "colab": {
          "base_uri": "https://localhost:8080/",
          "height": 35
        }
      },
      "source": [
        "Innome"
      ],
      "execution_count": null,
      "outputs": [
        {
          "output_type": "execute_result",
          "data": {
            "application/vnd.google.colaboratory.intrinsic+json": {
              "type": "string"
            },
            "text/plain": [
              "'Breno'"
            ]
          },
          "metadata": {
            "tags": []
          },
          "execution_count": 54
        }
      ]
    },
    {
      "cell_type": "code",
      "metadata": {
        "id": "m6fvQ8q7ddpQ",
        "outputId": "e04980c1-3301-4d0b-9e42-ad1f396491a6",
        "colab": {
          "base_uri": "https://localhost:8080/"
        }
      },
      "source": [
        "Idade = input(\"Insira sua idade: \")"
      ],
      "execution_count": null,
      "outputs": [
        {
          "output_type": "stream",
          "text": [
            "Insira sua idade: 14\n"
          ],
          "name": "stdout"
        }
      ]
    },
    {
      "cell_type": "code",
      "metadata": {
        "id": "Hp4Jbkv2dsIy",
        "outputId": "76b71487-dc31-49d8-a0b4-a0a1496b9443",
        "colab": {
          "base_uri": "https://localhost:8080/"
        }
      },
      "source": [
        "idade"
      ],
      "execution_count": null,
      "outputs": [
        {
          "output_type": "execute_result",
          "data": {
            "text/plain": [
              "15"
            ]
          },
          "metadata": {
            "tags": []
          },
          "execution_count": 58
        }
      ]
    },
    {
      "cell_type": "code",
      "metadata": {
        "id": "FPWh8qnzdvX4",
        "outputId": "20633568-efd8-4190-8a1c-e1d2c867349f",
        "colab": {
          "base_uri": "https://localhost:8080/"
        }
      },
      "source": [
        "type(idade)"
      ],
      "execution_count": null,
      "outputs": [
        {
          "output_type": "execute_result",
          "data": {
            "text/plain": [
              "int"
            ]
          },
          "metadata": {
            "tags": []
          },
          "execution_count": 59
        }
      ]
    },
    {
      "cell_type": "code",
      "metadata": {
        "id": "jcL8D09ndxXw",
        "outputId": "8b08680a-2025-482d-fd10-672c8a0a3a9f",
        "colab": {
          "base_uri": "https://localhost:8080/",
          "height": 52
        }
      },
      "source": [
        "idade = int\n",
        "input(\"Insira sua idade: \")"
      ],
      "execution_count": null,
      "outputs": [
        {
          "output_type": "stream",
          "text": [
            "Insira sua idade: 14\n"
          ],
          "name": "stdout"
        },
        {
          "output_type": "execute_result",
          "data": {
            "application/vnd.google.colaboratory.intrinsic+json": {
              "type": "string"
            },
            "text/plain": [
              "'14'"
            ]
          },
          "metadata": {
            "tags": []
          },
          "execution_count": 64
        }
      ]
    },
    {
      "cell_type": "code",
      "metadata": {
        "id": "Avhkvpm0eMQP",
        "outputId": "32b90cc8-461a-432b-c8fd-9285b0b76b92",
        "colab": {
          "base_uri": "https://localhost:8080/"
        }
      },
      "source": [
        "idade"
      ],
      "execution_count": null,
      "outputs": [
        {
          "output_type": "execute_result",
          "data": {
            "text/plain": [
              "int"
            ]
          },
          "metadata": {
            "tags": []
          },
          "execution_count": 65
        }
      ]
    },
    {
      "cell_type": "code",
      "metadata": {
        "id": "KZ8_SoYuekYP"
      },
      "source": [
        ""
      ],
      "execution_count": null,
      "outputs": []
    },
    {
      "cell_type": "markdown",
      "metadata": {
        "id": "0vXf8tqlep_k"
      },
      "source": [
        "# Metodos Saida\n",
        "\n",
        "Mostrar um valor para o usuario."
      ]
    },
    {
      "cell_type": "code",
      "metadata": {
        "id": "liNQxwnTe12h",
        "outputId": "65ddcb6f-f671-4534-a26f-9c51f1713191",
        "colab": {
          "base_uri": "https://localhost:8080/"
        }
      },
      "source": [
        "primeiro_numero = 10\n",
        "segundo_numero = 20\n",
        "\n",
        "soma = primeiro_numero + segundo_numero\n",
        "\n",
        "print(\"O valor da soma é de\", soma)"
      ],
      "execution_count": null,
      "outputs": [
        {
          "output_type": "stream",
          "text": [
            "O valor da soma é de 30\n"
          ],
          "name": "stdout"
        }
      ]
    },
    {
      "cell_type": "code",
      "metadata": {
        "id": "eP7zV1qZfI9k",
        "outputId": "c7297ad0-cc88-4dc4-dafd-6952ba867906",
        "colab": {
          "base_uri": "https://localhost:8080/"
        }
      },
      "source": [
        "nome = input(\"Insira o seu nome: \")\n",
        "idade = int(input(\"insira sua idade: \"))\n",
        "\n",
        "print(\"O\", nome, \"tem\", idade, \"anos\")"
      ],
      "execution_count": null,
      "outputs": [
        {
          "output_type": "stream",
          "text": [
            "Insira o seu nome: Breno\n",
            "insira sua idade: 14\n",
            "O Breno tem 14 anos\n"
          ],
          "name": "stdout"
        }
      ]
    },
    {
      "cell_type": "code",
      "metadata": {
        "id": "GPtLyugjfXr_",
        "outputId": "502df2b4-b8ca-4468-f64c-5087173de7c8",
        "colab": {
          "base_uri": "https://localhost:8080/"
        }
      },
      "source": [
        "print(\"Seja bem vindo a minha calculadora de multiplicação!\")\n",
        "\n",
        "valor1 = float(input(\"Insira o seu Primeiro numero: \"))\n",
        "valor2 = float(input(\"Insira o seu segundo numero: \"))\n",
        "\n",
        "multiplicacao = valor1 * valor2\n",
        "\n",
        "print(\"O resultado da multiplicação entre\", valor1, \"e\", valor2, \"é de\", multiplicacao)"
      ],
      "execution_count": null,
      "outputs": [
        {
          "output_type": "stream",
          "text": [
            "Seja bem vindo a minha calculadora de multiplicação!\n",
            "Insira o seu Primeiro numero: 10\n",
            "Insira o seu segundo numero: 20\n",
            "O resultado da multiplicação entre 10.0 e 20.0 é de 200.0\n"
          ],
          "name": "stdout"
        }
      ]
    },
    {
      "cell_type": "code",
      "metadata": {
        "id": "abW6YK8jgYJo"
      },
      "source": [
        "lista_animais = [\"Cachorro\", \"Gato\", \"Coelho\", \"Furão\", \"Pássaro\", \"Peixe\"]\n",
        "# Posição            1         2        3         4         5         6\n",
        "# Indice             0         1        2         3         4         5"
      ],
      "execution_count": null,
      "outputs": []
    },
    {
      "cell_type": "code",
      "metadata": {
        "id": "Mgw3UnD_ii5j"
      },
      "source": [
        "furao = lista_animais[3]\n",
        "gato = lista_animais[1]"
      ],
      "execution_count": null,
      "outputs": []
    },
    {
      "cell_type": "code",
      "metadata": {
        "id": "ICcfKb6qixuQ",
        "outputId": "b865a6a4-eaa3-4afe-c776-f3ac5e7bd19d",
        "colab": {
          "base_uri": "https://localhost:8080/"
        }
      },
      "source": [
        "print(\"A shura é uma\", furao)\n",
        "print(\"O Doctor é um\", gato)"
      ],
      "execution_count": null,
      "outputs": [
        {
          "output_type": "stream",
          "text": [
            "A shura é uma Furão\n",
            "O Doctor é um Gato\n"
          ],
          "name": "stdout"
        }
      ]
    },
    {
      "cell_type": "code",
      "metadata": {
        "id": "4BgTg42xi5cg"
      },
      "source": [
        ""
      ],
      "execution_count": null,
      "outputs": []
    }
  ]
}