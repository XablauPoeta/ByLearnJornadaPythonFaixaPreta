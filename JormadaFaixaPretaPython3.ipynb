{
  "nbformat": 4,
  "nbformat_minor": 0,
  "metadata": {
    "colab": {
      "name": "JormadaFaixaPretaPython3.ipynb",
      "provenance": [],
      "collapsed_sections": []
    },
    "kernelspec": {
      "name": "python3",
      "display_name": "Python 3"
    }
  },
  "cells": [
    {
      "cell_type": "markdown",
      "metadata": {
        "id": "bUhjWzU7c018"
      },
      "source": [
        "# Condicionais\n",
        "\n",
        "Principal forma de atribuir uma logica ao seu codigo.\n",
        "Basicamente é uma tomada de decisão caso a condição seja verdadeira.\n",
        "\n",
        "Ex:\n",
        "\n",
        "- Se o dia estiver quente:\n",
        "  - Vou tomar um sorvete\n",
        "  -Vou para a praia\n",
        "\n",
        "- Do contrario (se não):\n",
        "  - Comer um chocolate\n",
        "  - Maratonar netflix "
      ]
    },
    {
      "cell_type": "code",
      "metadata": {
        "id": "7Z1gQk4Ldb60",
        "outputId": "060c2159-08f8-4124-ee23-34ab8d9ce768",
        "colab": {
          "base_uri": "https://localhost:8080/"
        }
      },
      "source": [
        "temperatura = \"frio\"\n",
        "print(temperatura)"
      ],
      "execution_count": null,
      "outputs": [
        {
          "output_type": "stream",
          "text": [
            "frio\n"
          ],
          "name": "stdout"
        }
      ]
    },
    {
      "cell_type": "code",
      "metadata": {
        "id": "OHKpD_8wdj4a",
        "outputId": "5e69eaca-940d-47a3-bdaf-5eb17b8200f2",
        "colab": {
          "base_uri": "https://localhost:8080/"
        }
      },
      "source": [
        "if temperatura ==\"quente\":\n",
        "  print(\"Vou tomar um sorvete de flocos\")\n",
        "  print(\"Vou para a praia\")\n",
        "\n",
        "else:\n",
        "  print(\"Vou comer um chocolate\")\n",
        "  print(\"Vamos assistir Peaky Blinders\")  "
      ],
      "execution_count": null,
      "outputs": [
        {
          "output_type": "stream",
          "text": [
            "Vou comer um chocolate\n",
            "Vamos assistir Peaky Blinders\n"
          ],
          "name": "stdout"
        }
      ]
    },
    {
      "cell_type": "code",
      "metadata": {
        "id": "eqHWk868eN0M",
        "outputId": "6d7c630a-c396-4315-fe03-48901f484849",
        "colab": {
          "base_uri": "https://localhost:8080/"
        }
      },
      "source": [
        "horario = \"Noite\"\n",
        "\n",
        "if horario == \"manhã\":\n",
        "  print(\"O sol está quente\")\n",
        "elif horario == \"tarde\":\n",
        "  print(\"O por de sol está chegando\")\n",
        "else:\n",
        "  print(\"A lua está linda\")\n",
        "  print(\"Está na hora de programar hentai\")"
      ],
      "execution_count": null,
      "outputs": [
        {
          "output_type": "stream",
          "text": [
            "A lua está linda\n",
            "Está na hora de programar hentai\n"
          ],
          "name": "stdout"
        }
      ]
    },
    {
      "cell_type": "code",
      "metadata": {
        "id": "0Hw1wXk9e4e2",
        "outputId": "328e25aa-ba34-4bc9-eaff-c01640b847c2",
        "colab": {
          "base_uri": "https://localhost:8080/"
        }
      },
      "source": [
        "idade = 14\n",
        "\n",
        "if idade >= 18:\n",
        "  print(\"Você já pode beber, mas com moderação!\")\n",
        "else:\n",
        "  print(\"Você não pode beber!\")  "
      ],
      "execution_count": null,
      "outputs": [
        {
          "output_type": "stream",
          "text": [
            "Você não pode beber!\n"
          ],
          "name": "stdout"
        }
      ]
    },
    {
      "cell_type": "code",
      "metadata": {
        "id": "6ItDkD3ufbk3",
        "outputId": "b9638e28-3013-4277-cb7f-8fd9f8dbe3e8",
        "colab": {
          "base_uri": "https://localhost:8080/"
        }
      },
      "source": [
        "temperatura = 37\n",
        "\n",
        "if temperatura <= 30:\n",
        "  print(\"Aceitavel\")\n",
        "else:\n",
        "  print(\"Socorro está muito quente\")  "
      ],
      "execution_count": null,
      "outputs": [
        {
          "output_type": "stream",
          "text": [
            "Socorro está muito quente\n"
          ],
          "name": "stdout"
        }
      ]
    },
    {
      "cell_type": "code",
      "metadata": {
        "id": "_lS0sajBfpwQ",
        "outputId": "4a8e7769-a0a1-45c7-cabe-f02a75423692",
        "colab": {
          "base_uri": "https://localhost:8080/"
        }
      },
      "source": [
        "altura = 1.82\n",
        "\n",
        "if altura > 1.80:\n",
        "  print(\"O xablau é gigante\")\n",
        "else:\n",
        "  print(\"O xablau é nanico\")\n",
        " "
      ],
      "execution_count": null,
      "outputs": [
        {
          "output_type": "stream",
          "text": [
            "O xablau é gigante\n"
          ],
          "name": "stdout"
        }
      ]
    },
    {
      "cell_type": "code",
      "metadata": {
        "id": "0K6jDLVyf_01",
        "outputId": "12767fa4-b81a-4cb7-a5fe-6f4ca62f9fa8",
        "colab": {
          "base_uri": "https://localhost:8080/",
          "height": 51
        }
      },
      "source": [
        "quente = False\n",
        "gosta_praia = False\n",
        "gosta_chocolate_quente = True\n",
        "\n",
        "if quente == True:\n",
        "  print(\"Está quente\")\n",
        "  if gosta_praia == True:\n",
        "    print(\"Vá para a praia\")\n",
        "  else:\n",
        "    print(\"Não vá a praia\")\n",
        "else:\n",
        "  print(\"Está frio\")\n",
        "  if gosta_chocolate_quente == True:\n",
        "    print(\"Tome um chocolate quente\")\n",
        "  else:\n",
        "    print(\"Não tome chocolate quente\")  "
      ],
      "execution_count": 5,
      "outputs": [
        {
          "output_type": "stream",
          "text": [
            "Está frio\n",
            "Tome um chocolate quente\n"
          ],
          "name": "stdout"
        }
      ]
    },
    {
      "cell_type": "code",
      "metadata": {
        "id": "TzHew14VhBUA",
        "outputId": "471c2d09-5f2e-40da-bfca-bf78a01c1cd8",
        "colab": {
          "base_uri": "https://localhost:8080/",
          "height": 51
        }
      },
      "source": [
        "dia = input(\"Qual é o dia atual? \")\n",
        "\n",
        "if dia == \"sabado\":\n",
        "  print(\"É fim de semana :D\")\n",
        "elif dia == \"domingo\":\n",
        "  print(\"É fim de semana :D\")\n",
        "else:\n",
        "  print(\"Não é fim de semana :(\")  "
      ],
      "execution_count": 8,
      "outputs": [
        {
          "output_type": "stream",
          "text": [
            "Qual é o dia atual? Segunda\n",
            "Não é fim de semana :(\n"
          ],
          "name": "stdout"
        }
      ]
    },
    {
      "cell_type": "code",
      "metadata": {
        "id": "GsZxHwMGhjhy",
        "outputId": "e7d48545-c234-4fc5-c65d-ee2c83539582",
        "colab": {
          "base_uri": "https://localhost:8080/",
          "height": 51
        }
      },
      "source": [
        "# 1, 3, 6 e 10 => valido\n",
        "# qualquer outro => invalido\n",
        "\n",
        "numero = input(\"Qual é o numero?\")\n",
        "\n",
        "if numero == 1 or numero == 3 or numero == 6 or numero == 10:\n",
        "  print(\"É valido\")\n",
        "else:\n",
        "  print(\"É invalido\")\n"
      ],
      "execution_count": 13,
      "outputs": [
        {
          "output_type": "stream",
          "text": [
            "Qual é o numero?5\n",
            "É invalido\n"
          ],
          "name": "stdout"
        }
      ]
    },
    {
      "cell_type": "code",
      "metadata": {
        "id": "Ngs5mWPEh3UD"
      },
      "source": [
        ""
      ],
      "execution_count": null,
      "outputs": []
    },
    {
      "cell_type": "markdown",
      "metadata": {
        "id": "u0GNWmaYiXUO"
      },
      "source": [
        "# Operadores Logicos\n",
        "\n",
        "Servem para fazer uma condição composta\n",
        "\n",
        "E => Ambas precisam ser verdade\n",
        "Ou => Pelo menos uma precisa ser verdade\n",
        "\n",
        "Ex:\n",
        " - Se for manhã e estiver sol\n",
        " - Se for sabado ou domingo\n",
        " "
      ]
    },
    {
      "cell_type": "code",
      "metadata": {
        "id": "4xo0TaZMj2dP",
        "outputId": "04b3a7b6-028d-4583-a9a9-fe7bb7a62715",
        "colab": {
          "base_uri": "https://localhost:8080/"
        }
      },
      "source": [
        "meu_nome = \"Breno\"\n",
        "nome = input(\"Digite seu nome: \")\n",
        "\n",
        "meu_sobrenome = \"Silva\"\n",
        "sobrenome = input(\"Digite seu sobrenome: \")\n",
        "\n",
        "if nome == meu_nome and sobrenome == meu_sobrenome:\n",
        "  print(\"Você é o Breno Silva\")\n",
        "else:\n",
        "  print(\"Você não é o Breno Silva\")  "
      ],
      "execution_count": null,
      "outputs": [
        {
          "output_type": "stream",
          "text": [
            "Digite seu nome: Breno\n",
            "Digite seu sobrenome: Silva\n",
            "Você é o Breno Silva\n"
          ],
          "name": "stdout"
        }
      ]
    },
    {
      "cell_type": "markdown",
      "metadata": {
        "id": "8nL2tPwekaa0"
      },
      "source": [
        "# Laços de repetição\n",
        "\n",
        "É uma excelente forma de evitar repetição de codigo.\n",
        "\n",
        "Ele vai execuar \"n\" vezes uma operação\n",
        "\n",
        "\"n\" => quantidade de vezes definida."
      ]
    },
    {
      "cell_type": "code",
      "metadata": {
        "id": "PT27KIHlkei1",
        "outputId": "ab8a666a-ea07-47e8-ed4f-f8a88504f86a",
        "colab": {
          "base_uri": "https://localhost:8080/"
        }
      },
      "source": [
        "# De 1 até 10 vamos printar todos os numeros\n",
        "print(1)\n",
        "print(2)\n",
        "print(3)\n",
        "print(4)\n",
        "print(5)\n",
        "print(6)\n",
        "print(7)\n",
        "print(8)\n",
        "print(9)\n",
        "# Na programação o minimo (1) é INCLUSO => Ele existe\n",
        "# Ja é maximo (10) é excluso => Ele não existe"
      ],
      "execution_count": null,
      "outputs": [
        {
          "output_type": "stream",
          "text": [
            "1\n",
            "2\n",
            "3\n",
            "4\n",
            "5\n",
            "6\n",
            "7\n",
            "8\n",
            "9\n"
          ],
          "name": "stdout"
        }
      ]
    },
    {
      "cell_type": "code",
      "metadata": {
        "id": "aCdbFzDplQ5Z",
        "outputId": "3a5bf989-68f8-413e-da8b-a6737f9f8a2c",
        "colab": {
          "base_uri": "https://localhost:8080/"
        }
      },
      "source": [
        "for numero in range(1,10):\n",
        "  print(numero)"
      ],
      "execution_count": null,
      "outputs": [
        {
          "output_type": "stream",
          "text": [
            "1\n",
            "2\n",
            "3\n",
            "4\n",
            "5\n",
            "6\n",
            "7\n",
            "8\n",
            "9\n"
          ],
          "name": "stdout"
        }
      ]
    },
    {
      "cell_type": "code",
      "metadata": {
        "id": "KdK2vzkwlaYg",
        "outputId": "cdd89ce3-4207-47c5-b8cc-ef19e6cba44c",
        "colab": {
          "base_uri": "https://localhost:8080/"
        }
      },
      "source": [
        "for numero in range(10):\n",
        "  print(numero)"
      ],
      "execution_count": null,
      "outputs": [
        {
          "output_type": "stream",
          "text": [
            "0\n",
            "1\n",
            "2\n",
            "3\n",
            "4\n",
            "5\n",
            "6\n",
            "7\n",
            "8\n",
            "9\n"
          ],
          "name": "stdout"
        }
      ]
    },
    {
      "cell_type": "markdown",
      "metadata": {
        "id": "9x4mmlJ2lhUk"
      },
      "source": [
        "\"For\" => palavra-chave para Repetição.\n",
        "\"Variavel\" => O dado em que estamos trabalhando no momento\n",
        "atual.\n",
        "\"in\" => palavra-chave para \"onde vamos repetir?\"\n",
        "\"intervalo/sequencia\" => Oque vamos repetir"
      ]
    },
    {
      "cell_type": "code",
      "metadata": {
        "id": "9zsPJdzrl5y0",
        "outputId": "58d49bba-dc2e-4f32-ffdd-dd9e79e2117a",
        "colab": {
          "base_uri": "https://localhost:8080/"
        }
      },
      "source": [
        "for numero in range(5):\n",
        "  print(numero)\n",
        "\n",
        "#    for        numero       in         range(5)\n",
        "# para cada     numero      no         intervalo até 5"
      ],
      "execution_count": null,
      "outputs": [
        {
          "output_type": "stream",
          "text": [
            "0\n",
            "1\n",
            "2\n",
            "3\n",
            "4\n"
          ],
          "name": "stdout"
        }
      ]
    },
    {
      "cell_type": "code",
      "metadata": {
        "id": "FXooR6wJmS-w",
        "outputId": "dc7b95f3-2e65-4e58-d36b-7bc4d7291b39",
        "colab": {
          "base_uri": "https://localhost:8080/"
        }
      },
      "source": [
        "for numero in range(1,11):\n",
        "  print(\"O numero atual é:\", numero)"
      ],
      "execution_count": null,
      "outputs": [
        {
          "output_type": "stream",
          "text": [
            "O numero atual é: 1\n",
            "O numero atual é: 2\n",
            "O numero atual é: 3\n",
            "O numero atual é: 4\n",
            "O numero atual é: 5\n",
            "O numero atual é: 6\n",
            "O numero atual é: 7\n",
            "O numero atual é: 8\n",
            "O numero atual é: 9\n",
            "O numero atual é: 10\n"
          ],
          "name": "stdout"
        }
      ]
    },
    {
      "cell_type": "code",
      "metadata": {
        "id": "7YxobLstmp_7",
        "outputId": "71a3a4f6-1c8e-4f75-85d8-c84e4fda3cd3",
        "colab": {
          "base_uri": "https://localhost:8080/"
        }
      },
      "source": [
        "texto = \"Não trave o zap dos amigos\"\n",
        "\n",
        "for vez in range(10):\n",
        "  print(texto)"
      ],
      "execution_count": null,
      "outputs": [
        {
          "output_type": "stream",
          "text": [
            "Não trave o zap dos amigos\n",
            "Não trave o zap dos amigos\n",
            "Não trave o zap dos amigos\n",
            "Não trave o zap dos amigos\n",
            "Não trave o zap dos amigos\n",
            "Não trave o zap dos amigos\n",
            "Não trave o zap dos amigos\n",
            "Não trave o zap dos amigos\n",
            "Não trave o zap dos amigos\n",
            "Não trave o zap dos amigos\n"
          ],
          "name": "stdout"
        }
      ]
    },
    {
      "cell_type": "code",
      "metadata": {
        "id": "15IHu6xdm4Kl"
      },
      "source": [
        "nomes = [\"Breno\", \"Sandra\", \"Jo\", \"Ze russo\"]"
      ],
      "execution_count": 14,
      "outputs": []
    },
    {
      "cell_type": "code",
      "metadata": {
        "id": "LnLicKwLm--3",
        "outputId": "8d4d147f-7b9d-44ef-9417-929b73ea5414",
        "colab": {
          "base_uri": "https://localhost:8080/",
          "height": 102
        }
      },
      "source": [
        "for nome in nomes:\n",
        "  print(\"O nome atual é:\", nome)\n",
        "  if nome == \"Breno\":\n",
        "    print(\"(Ou xablau)\")"
      ],
      "execution_count": 15,
      "outputs": [
        {
          "output_type": "stream",
          "text": [
            "O nome atual é: Breno\n",
            "(Ou xablau)\n",
            "O nome atual é: Sandra\n",
            "O nome atual é: Jo\n",
            "O nome atual é: Ze russo\n"
          ],
          "name": "stdout"
        }
      ]
    },
    {
      "cell_type": "code",
      "metadata": {
        "id": "_QqUQP2-nU1t",
        "outputId": "0a14dcf3-6486-4f9a-9124-30c2c0ee2aab",
        "colab": {
          "base_uri": "https://localhost:8080/"
        }
      },
      "source": [
        "notas = [6, 7.5, 9, 10, 3, 5]\n",
        "\n",
        "soma = 0\n",
        "\n",
        "for nota in notas:\n",
        "  soma = soma + nota\n",
        "\n",
        "print(\"A soma é\", soma)\n",
        "\n",
        "media = soma / len(notas)\n",
        "\n",
        "print(\"A media é\", media)"
      ],
      "execution_count": null,
      "outputs": [
        {
          "output_type": "stream",
          "text": [
            "A soma é 40.5\n",
            "A media é 6.75\n"
          ],
          "name": "stdout"
        }
      ]
    },
    {
      "cell_type": "code",
      "metadata": {
        "id": "UommBwYJpUQl",
        "outputId": "def43b16-9e4d-4def-9c38-dee2ef012a04",
        "colab": {
          "base_uri": "https://localhost:8080/"
        }
      },
      "source": [
        "numero_sorte = 10\n",
        "\n",
        "numero = int(input(\"Escolha um numero: \"))\n",
        "\n",
        "if numero != 10:\n",
        "  print(\"errou o numero\")"
      ],
      "execution_count": null,
      "outputs": [
        {
          "output_type": "stream",
          "text": [
            "Escolha um numero: 10\n"
          ],
          "name": "stdout"
        }
      ]
    },
    {
      "cell_type": "markdown",
      "metadata": {
        "id": "GPUMrzKXqMvd"
      },
      "source": [
        "# Função\n",
        "\n",
        "Toda função é uma rotina.\n",
        "\n",
        "Eu defino (def) uma rotina e a executo quantas vezes quiser.\n",
        "\n",
        "É uma excelente forma de deixar nosso dinamico sem repetição."
      ]
    },
    {
      "cell_type": "code",
      "metadata": {
        "id": "aqVSsyu5qExO",
        "outputId": "27b8bfc1-45d4-45f0-c754-aad2cdf595df",
        "colab": {
          "base_uri": "https://localhost:8080/"
        }
      },
      "source": [
        "def nome_funcao():\n",
        "  print(\"Codigo da função\")\n",
        "\n",
        "\n",
        "nome_funcao()"
      ],
      "execution_count": null,
      "outputs": [
        {
          "output_type": "stream",
          "text": [
            "Codigo da função\n"
          ],
          "name": "stdout"
        }
      ]
    },
    {
      "cell_type": "code",
      "metadata": {
        "id": "UJ4-Rf1Eq29p",
        "outputId": "bd8eeb40-e9c1-48e1-e1a9-fe245461cb0d",
        "colab": {
          "base_uri": "https://localhost:8080/"
        }
      },
      "source": [
        "def mostrar_nome():\n",
        "  print(\"Breno silva\")\n",
        "  print(\"Xablau\")\n",
        "\n",
        "\n",
        "mostrar_nome()"
      ],
      "execution_count": null,
      "outputs": [
        {
          "output_type": "stream",
          "text": [
            "Breno silva\n",
            "Xablau\n"
          ],
          "name": "stdout"
        }
      ]
    },
    {
      "cell_type": "markdown",
      "metadata": {
        "id": "48EvCCwrrIRA"
      },
      "source": [
        "# Parametro/Argumento da função\n",
        "\n",
        "É uma maneira de enviar dados para a função"
      ]
    },
    {
      "cell_type": "code",
      "metadata": {
        "id": "1OHXhC9RrRDp",
        "outputId": "9edc4d2c-bf4c-4266-a4ed-1402d8f0a867",
        "colab": {
          "base_uri": "https://localhost:8080/"
        }
      },
      "source": [
        "print(\"argumento\")"
      ],
      "execution_count": null,
      "outputs": [
        {
          "output_type": "stream",
          "text": [
            "argumento\n"
          ],
          "name": "stdout"
        }
      ]
    },
    {
      "cell_type": "code",
      "metadata": {
        "id": "wQRcpPbVrinF",
        "outputId": "bc960354-3440-40c8-d5d1-cb174faae8e0",
        "colab": {
          "base_uri": "https://localhost:8080/",
          "height": 68
        }
      },
      "source": [
        "def calcular_media(nota1, nota2):\n",
        "  soma = nota1 + nota2\n",
        "  media = soma / 2\n",
        "  print(media)\n",
        "\n",
        "primeira_nota = float(input(\"Sua primeira nota: \"))\n",
        "segunda_nota = float(input(\"Sua segunda nota: \"))\n",
        "\n",
        "calcular_media(primeira_nota, segunda_nota)\n",
        "\n"
      ],
      "execution_count": 23,
      "outputs": [
        {
          "output_type": "stream",
          "text": [
            "Sua primeira nota: 5\n",
            "Sua segunda nota: 8\n",
            "6.5\n"
          ],
          "name": "stdout"
        }
      ]
    },
    {
      "cell_type": "code",
      "metadata": {
        "id": "b8V7PjicsUom",
        "outputId": "b052ec38-e03c-4171-d550-55fbca639e96",
        "colab": {
          "base_uri": "https://localhost:8080/",
          "height": 233
        }
      },
      "source": [
        "def calcular_media(nota1, nota2):\n",
        "  soma = nota1 + nota2\n",
        "  media = soma / 2\n",
        "  return media\n",
        "\n",
        "media_calculada + calcular_media(10,8)\n",
        "\n",
        "print(media_calculada)"
      ],
      "execution_count": 22,
      "outputs": [
        {
          "output_type": "error",
          "ename": "NameError",
          "evalue": "ignored",
          "traceback": [
            "\u001b[0;31m---------------------------------------------------------------------------\u001b[0m",
            "\u001b[0;31mNameError\u001b[0m                                 Traceback (most recent call last)",
            "\u001b[0;32m<ipython-input-22-0897be0f6c01>\u001b[0m in \u001b[0;36m<module>\u001b[0;34m()\u001b[0m\n\u001b[1;32m      4\u001b[0m   \u001b[0;32mreturn\u001b[0m \u001b[0mmedia\u001b[0m\u001b[0;34m\u001b[0m\u001b[0;34m\u001b[0m\u001b[0m\n\u001b[1;32m      5\u001b[0m \u001b[0;34m\u001b[0m\u001b[0m\n\u001b[0;32m----> 6\u001b[0;31m \u001b[0mmedia_calculada\u001b[0m \u001b[0;34m+\u001b[0m \u001b[0mcalcular_media\u001b[0m\u001b[0;34m(\u001b[0m\u001b[0;36m10\u001b[0m\u001b[0;34m,\u001b[0m\u001b[0;36m8\u001b[0m\u001b[0;34m)\u001b[0m\u001b[0;34m\u001b[0m\u001b[0;34m\u001b[0m\u001b[0m\n\u001b[0m\u001b[1;32m      7\u001b[0m \u001b[0;34m\u001b[0m\u001b[0m\n\u001b[1;32m      8\u001b[0m \u001b[0mprint\u001b[0m\u001b[0;34m(\u001b[0m\u001b[0mmedia_calculada\u001b[0m\u001b[0;34m)\u001b[0m\u001b[0;34m\u001b[0m\u001b[0;34m\u001b[0m\u001b[0m\n",
            "\u001b[0;31mNameError\u001b[0m: name 'media_calculada' is not defined"
          ]
        }
      ]
    },
    {
      "cell_type": "code",
      "metadata": {
        "id": "reSsjn8HqHX5",
        "outputId": "e3380f55-8899-42be-98be-fa3afe3b1985",
        "colab": {
          "base_uri": "https://localhost:8080/",
          "height": 85
        }
      },
      "source": [
        "def numero_quadrado(numero):\n",
        "  quadrado = numero * numero\n",
        "  return quadrado\n",
        "\n",
        "def calcular_imc(peso, altura):\n",
        "  altura_quadrada = numero_quadrado(altura)\n",
        "  meu_imc = peso / altura_quadrada\n",
        "\n",
        "  return meu_imc\n",
        "\n",
        "def classificar_imc(meu_imc):\n",
        "  if imc < 18.5:\n",
        "    print(\"Magreza\")\n",
        "  elif imc >= 18.5 and imc < 25:\n",
        "    print(\"Normal\")\n",
        "  elif imc >= 25 and imc < 30:\n",
        "    print(\"Sobrepeso\")\n",
        "  elif imc >= 30 and imc < 40:\n",
        "    print(\"Obseidade\")\n",
        "  else:\n",
        "    print(\"Obesidade grave\")  \n",
        "\n",
        "\n",
        "imc = calcular_imc(61, 1.80)\n",
        "print(imc)\n",
        "\n",
        "print(\"Seu IMC é: \", imc)\n",
        "\n",
        "print(\"Sua classificação é: \")\n",
        "classificar_imc(imc)"
      ],
      "execution_count": 27,
      "outputs": [
        {
          "output_type": "stream",
          "text": [
            "18.827160493827158\n",
            "Seu IMC é:  18.827160493827158\n",
            "Sua classificação é: \n",
            "Normal\n"
          ],
          "name": "stdout"
        }
      ]
    }
  ]
}